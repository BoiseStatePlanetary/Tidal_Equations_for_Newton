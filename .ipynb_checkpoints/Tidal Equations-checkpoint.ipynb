{
 "cells": [
  {
   "cell_type": "markdown",
   "metadata": {},
   "source": [
    "### 2019 Jun 20"
   ]
  },
  {
   "cell_type": "markdown",
   "metadata": {},
   "source": [
    "I (Brian Jackson - bjackson@boisestate.edu) have code up some of the tidal evolution equations derived in Ferraz-Mello et al. (2008 - https://arxiv.org/abs/0712.1156). If you just want the final answers, look at the boxed equations below."
   ]
  },
  {
   "cell_type": "markdown",
   "metadata": {},
   "source": [
    "Re-casting Equation (88) to reflect the planet and star properties and converting it into an equation for the time evolution of semi-major axis $\\dot{a}$ gives"
   ]
  },
  {
   "cell_type": "markdown",
   "metadata": {},
   "source": [
    "$$\n",
    "\\langle \\dot{a} \\rangle = \\dfrac{3 n k_{\\rm d\\star} m_{\\rm p} R_\\star^5 \\epsilon_{\\rm 0\\star}}{m_\\star a^4} \\left( 1 + \\frac{51}{4} e^2 \\right) + \\dfrac{3 n k_{\\rm d\\ p} m_\\star R_{\\rm p}^5 \\epsilon_{\\rm 2\\ p}}{m_{\\rm p} a^4} \\left( 7 e^2 + S_{\\rm p}^2 \\right),\n",
    "$$"
   ]
  },
  {
   "cell_type": "markdown",
   "metadata": {},
   "source": [
    "where $n$ is the orbital mean motion ($2 \\pi/P$ for $P$ the orbital period), $k_{\\rm d}$ is the dynamical Love number of the star $\\star$ or planet ${\\rm p}$, $m_{\\rm \\star/p}$ is the stellar/planetary mass, $R_{\\rm \\star/p}$ the stellar/planetary radius, $\\epsilon$ the lag angle for the body, $e$ the orbital eccentricity, and $S_{\\rm p}$ the sine of the angle between the planet's equator and orbital plane, $I_{\\rm p}$."
   ]
  },
  {
   "cell_type": "markdown",
   "metadata": {},
   "source": [
    "Note that this form of the equation assumes the star is rotating much more quickly than the planet revolves and that the planet is tidally locked to the star."
   ]
  },
  {
   "cell_type": "markdown",
   "metadata": {},
   "source": [
    "Often, we assume $k_{\\rm d}\\epsilon = k/Q = \\frac{3}{2 Q^\\prime}$, i.e., we incorporate the usually unknown Love number into the $Q$-value and used a so-called \"modified tidal dissipation parameter\". We can also usually assume $I = 0$ and $n \\approx \\left( G m_\\star/a^3 \\right)^{1/2}$ (i.e., $m_{\\rm p} \\ll m_\\star$), giving"
   ]
  },
  {
   "cell_type": "markdown",
   "metadata": {},
   "source": [
    "$$\n",
    "\\boxed{ \\langle \\dot{a} \\rangle = \\frac{9}{2} \\left( \\dfrac{G}{m_\\star} \\right)^{1/2} \\left( \\dfrac{m_{\\rm p} R_\\star^5}{a^{11/2}} \\right) \\left( 1 + \\frac{51}{4} e^2 \\right) - \\frac{63}{2} \\left( G m_\\star^3 \\right)^{1/2} \\left( \\dfrac{R_{\\rm p}^5}{m_{\\rm p}\\ a^{11/2}} \\right) e^2 }.\n",
    "$$"
   ]
  },
  {
   "cell_type": "markdown",
   "metadata": {},
   "source": [
    "We can make a similar series of substitutions and approximations to arrive at an analogous expression for the time evolution of the eccentricity $\\dot{e}$:"
   ]
  },
  {
   "cell_type": "markdown",
   "metadata": {},
   "source": [
    "$$\n",
    "\\boxed{ \\langle \\dot{e} \\rangle = \\frac{171}{16} \\left( \\dfrac{G}{m_\\star} \\right)^{1/2} \\dfrac{e\\ m_{\\rm p} R_\\star^5}{a^{13/2}} - \\frac{63}{4} \\left( G m_\\star^3 \\right)^{1/2} \\dfrac{e\\ R_{\\rm p}^5}{m_{\\rm p} a^{13/2}} }.\n",
    "$$"
   ]
  },
  {
   "cell_type": "code",
   "execution_count": 34,
   "metadata": {
    "collapsed": true
   },
   "outputs": [],
   "source": [
    "%matplotlib inline\n",
    "\n",
    "import numpy as np\n",
    "import astropy.constants as c\n",
    "import matplotlib.pyplot as plt\n",
    "\n",
    "aspect_ratio = 16./9"
   ]
  },
  {
   "cell_type": "code",
   "execution_count": 30,
   "metadata": {},
   "outputs": [],
   "source": [
    "def dadt_star_tide(Mstar=1.*c.M_sun, Rstar=1.*c.R_sun, Qstar=1e7, \n",
    "                   Mp=1.*c.M_jup, Rp=1.*c.R_jup, Qp=1e5, \n",
    "                   a=0.02*c.au, e=0.1):\n",
    "    return 9./2*np.sqrt(c.G/Mstar)*(Mp*Rstar**5/a**(11./2)/Qstar)*(1. + 51./4*e**2)\n",
    "\n",
    "def dadt_planet_tide(Mstar=1.*c.M_sun, Rstar=1.*c.R_sun, Qstar=1e7, \n",
    "                     Mp=1.*c.M_jup, Rp=1.*c.R_jup, Qp=1e5, \n",
    "                     a=0.02*c.au, e=0.1):\n",
    "    return -63./2*np.sqrt(c.G*Mstar**3)*(Rp**5/Mp/a**(11./2)/Qp)*e**2\n",
    "                                        \n",
    "def dedt_star_tide(Mstar=1.*c.M_sun, Rstar=1.*c.R_sun, Qstar=1e7, \n",
    "                   Mp=1.*c.M_jup, Rp=1.*c.R_jup, Qp=1e5,\n",
    "                   a=0.02*c.au, e=0.1):\n",
    "    \n",
    "    return 171./16*np.sqrt(c.G/Mstar)*(e*Mp*Rstar**5/a**(13./2)/Qstar)\n",
    "\n",
    "def dedt_planet_tide(Mstar=1.*c.M_sun, Rstar=1.*c.R_sun, Qstar=1e7, \n",
    "                     Mp=1.*c.M_jup, Rp=1.*c.R_jup, Qp=1e5, \n",
    "                     a=0.02*c.au, e=0.1):\n",
    "    return -63./4*np.sqrt(c.G*Mstar**3)*(e*Rp**5/Mp/a**(13./2)/Qp)"
   ]
  },
  {
   "cell_type": "code",
   "execution_count": 47,
   "metadata": {},
   "outputs": [
    {
     "data": {
      "image/png": "[encoded data removed]",
      "text/plain": [
       "<matplotlib.figure.Figure at 0x112b2cd10>"
      ]
     },
     "metadata": {},
     "output_type": "display_data"
    }
   ],
   "source": [
    "semimajor_axes = np.linspace(0.001, 0.03, 300)*c.au\n",
    "eccentricity = 0.\n",
    "\n",
    "tau_circ = np.abs(eccentricity/(dedt_star_tide(a=semimajor_axes, e=eccentricity) +\\\n",
    "                                dedt_planet_tide(a=semimajor_axes, e=eccentricity))).to('yr')\n",
    "\n",
    "tau_decay = np.abs(semimajor_axes/(dadt_star_tide(a=semimajor_axes, e=eccentricity, Qstar=1e100) +\\\n",
    "                                   dadt_planet_tide(a=semimajor_axes, e=eccentricity))).to('yr')\n",
    "\n",
    "\n",
    "fig = plt.figure(figsize=(6*aspect_ratio, 6))\n",
    "ax = fig.add_subplot(111)\n",
    "\n",
    "ax.semilogy(semimajor_axes.to('au'), tau_circ, lw=6)\n",
    "ax.semilogy(semimajor_axes.to('au'), tau_decay, lw=6, color='orange')\n",
    "\n",
    "ax.tick_params(which='both', labelsize=24)\n",
    "ax.set_xlabel(\"$a\\,({\\\\rm AU})$\", fontsize=36)\n",
    "ax.set_ylabel(\"$\\\\tau \\,({\\\\rm yrs})$\", fontsize=36)\n",
    "ax.grid(True)"
   ]
  }
 ],
 "metadata": {
  "kernelspec": {
   "display_name": "Python 2",
   "language": "python",
   "name": "python2"
  },
  "language_info": {
   "codemirror_mode": {
    "name": "ipython",
    "version": 2
   },
   "file_extension": ".py",
   "mimetype": "text/x-python",
   "name": "python",
   "nbconvert_exporter": "python",
   "pygments_lexer": "ipython2",
   "version": "2.7.13"
  }
 },
 "nbformat": 4,
 "nbformat_minor": 2
}
